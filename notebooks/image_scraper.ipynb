{
 "cells": [
  {
   "cell_type": "code",
   "execution_count": 17,
   "id": "e318bb93",
   "metadata": {},
   "outputs": [],
   "source": [
    "import urllib.request\n",
    "from tqdm import tqdm\n",
    "\n",
    "download_location = \"../data/external/images-gen-1-8/\""
   ]
  },
  {
   "cell_type": "code",
   "execution_count": 19,
   "id": "ea1360ea",
   "metadata": {},
   "outputs": [
    {
     "name": "stderr",
     "output_type": "stream",
     "text": [
      "100%|███████████████████████████████████████████████████████████████████████████████████████████████████| 905/905 [09:28<00:00,  1.59it/s]\n"
     ]
    }
   ],
   "source": [
    "for i in tqdm(range(1, 906)):\n",
    "    \n",
    "    id = str(i)\n",
    "    while len(id) != 3:\n",
    "        id = \"0\" + id\n",
    "\n",
    "    imgURL = f\"https://assets.pokemon.com/assets/cms2/img/pokedex/full/{id}.png\"\n",
    "    urllib.request.urlretrieve(imgURL, f\"{download_location}{id}.png\")\n"
   ]
  },
  {
   "cell_type": "code",
   "execution_count": null,
   "id": "f09bb1d1",
   "metadata": {},
   "outputs": [],
   "source": []
  }
 ],
 "metadata": {
  "kernelspec": {
   "display_name": "Python 3 (ipykernel)",
   "language": "python",
   "name": "python3"
  },
  "language_info": {
   "codemirror_mode": {
    "name": "ipython",
    "version": 3
   },
   "file_extension": ".py",
   "mimetype": "text/x-python",
   "name": "python",
   "nbconvert_exporter": "python",
   "pygments_lexer": "ipython3",
   "version": "3.9.13"
  }
 },
 "nbformat": 4,
 "nbformat_minor": 5
}
